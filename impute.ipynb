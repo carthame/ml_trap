{
 "cells": [
  {
   "cell_type": "code",
   "execution_count": 70,
   "id": "0af00146",
   "metadata": {},
   "outputs": [],
   "source": [
    "import sklearn\n",
    "import pandas as pd\n",
    "import numpy as np\n",
    "import matplotlib.pyplot as plt\n",
    "import torch\n",
    "from datetime import date,datetime,timedelta\n",
    "from sklearn.impute import SimpleImputer"
   ]
  },
  {
   "cell_type": "code",
   "execution_count": 49,
   "id": "8fb86c28",
   "metadata": {},
   "outputs": [],
   "source": [
    "def date_iterator_generator(begin, end):\n",
    "  length = (end - begin).days + 1\n",
    "  # 0から日数分の数値シーケンス\n",
    "  for n in range(length):\n",
    "    yield begin + timedelta(n)"
   ]
  },
  {
   "cell_type": "code",
   "execution_count": 108,
   "id": "b9b2731b",
   "metadata": {},
   "outputs": [],
   "source": [
    "begin = datetime.strptime(\"20190101\",\"%Y%m%d\").date()\n",
    "end = datetime.strptime(\"20191231\",\"%Y%m%d\").date()\n",
    "\n",
    "gen = date_iterator_generator(begin,end)\n",
    "powers = []\n",
    "for target in gen:\n",
    "    df = pd.read_csv(\"/home/s21033/data/toshiba_SCC_data/104_kawasaki/101_buildac/data101/Buildac_power_plant_{}.csv\".format(target.strftime(\"%Y-%m-%d\")),encoding=\"shift-jis\")\n",
    "    if \"特高 受電 電力量\" in df.columns:\n",
    "        powers.append(df[\"特高 受電 電力量\"].sum())\n",
    "    else:\n",
    "        powers.append(np.nan)"
   ]
  },
  {
   "cell_type": "code",
   "execution_count": 46,
   "id": "4dedc150",
   "metadata": {},
   "outputs": [],
   "source": [
    "df_power=df.loc[:,\"特高 受電 電力量\"].sum(axis=0)"
   ]
  },
  {
   "cell_type": "code",
   "execution_count": 47,
   "id": "89ac371a",
   "metadata": {},
   "outputs": [
    {
     "data": {
      "text/plain": [
       "14340.0"
      ]
     },
     "execution_count": 47,
     "metadata": {},
     "output_type": "execute_result"
    }
   ],
   "source": [
    "df_power"
   ]
  },
  {
   "cell_type": "code",
   "execution_count": 110,
   "id": "7c117cc0",
   "metadata": {},
   "outputs": [],
   "source": [
    "ser = pd.Series(powers)"
   ]
  },
  {
   "cell_type": "code",
   "execution_count": 117,
   "id": "8ba02b44",
   "metadata": {},
   "outputs": [
    {
     "data": {
      "text/plain": [
       "Int64Index([18, 19, 127, 128, 129, 130, 131, 132, 133, 134, 135, 136, 137,\n",
       "            138],\n",
       "           dtype='int64')"
      ]
     },
     "execution_count": 117,
     "metadata": {},
     "output_type": "execute_result"
    }
   ],
   "source": [
    "ser.index[ser.apply(np.isnan)]"
   ]
  },
  {
   "cell_type": "code",
   "execution_count": 120,
   "id": "c14bdc1a",
   "metadata": {},
   "outputs": [],
   "source": [
    "dates = pd.date_range(start=\"1/1/2019\",end=\"12/31/2019\",freq=\"D\")"
   ]
  },
  {
   "cell_type": "code",
   "execution_count": 121,
   "id": "2270d0ec",
   "metadata": {},
   "outputs": [],
   "source": [
    "ser.index = dates"
   ]
  },
  {
   "cell_type": "code",
   "execution_count": 123,
   "id": "225d5753",
   "metadata": {},
   "outputs": [
    {
     "data": {
      "text/plain": [
       "DatetimeIndex(['2019-01-19', '2019-01-20', '2019-05-08', '2019-05-09',\n",
       "               '2019-05-10', '2019-05-11', '2019-05-12', '2019-05-13',\n",
       "               '2019-05-14', '2019-05-15', '2019-05-16', '2019-05-17',\n",
       "               '2019-05-18', '2019-05-19'],\n",
       "              dtype='datetime64[ns]', freq=None)"
      ]
     },
     "execution_count": 123,
     "metadata": {},
     "output_type": "execute_result"
    }
   ],
   "source": [
    "ser.index[ser.apply(np.isnan)]"
   ]
  },
  {
   "cell_type": "code",
   "execution_count": 126,
   "id": "08331fd4",
   "metadata": {},
   "outputs": [],
   "source": [
    "powers = ser.values"
   ]
  },
  {
   "cell_type": "code",
   "execution_count": 127,
   "id": "bb0ae01f",
   "metadata": {},
   "outputs": [
    {
     "data": {
      "text/plain": [
       "array([[19940.        ],\n",
       "       [19120.        ],\n",
       "       [18760.        ],\n",
       "       [ 9840.        ],\n",
       "       [21240.        ],\n",
       "       [37430.        ],\n",
       "       [45530.        ],\n",
       "       [44480.        ],\n",
       "       [44830.        ],\n",
       "       [46150.        ],\n",
       "       [42070.        ],\n",
       "       [22500.        ],\n",
       "       [20490.        ],\n",
       "       [20970.        ],\n",
       "       [47860.        ],\n",
       "       [42010.        ],\n",
       "       [42700.        ],\n",
       "       [31690.        ],\n",
       "       [30581.93732194],\n",
       "       [30581.93732194],\n",
       "       [28210.        ],\n",
       "       [43900.        ],\n",
       "       [42110.        ],\n",
       "       [43140.        ],\n",
       "       [43880.        ],\n",
       "       [23010.        ],\n",
       "       [21360.        ],\n",
       "       [43050.        ],\n",
       "       [44620.        ],\n",
       "       [44800.        ],\n",
       "       [44450.        ],\n",
       "       [44950.        ],\n",
       "       [22340.        ],\n",
       "       [20140.        ],\n",
       "       [37820.        ],\n",
       "       [43930.        ],\n",
       "       [43320.        ],\n",
       "       [38850.        ],\n",
       "       [44070.        ],\n",
       "       [23530.        ],\n",
       "       [21590.        ],\n",
       "       [21530.        ],\n",
       "       [46440.        ],\n",
       "       [44890.        ],\n",
       "       [45100.        ],\n",
       "       [46230.        ],\n",
       "       [21770.        ],\n",
       "       [20180.        ],\n",
       "       [40330.        ],\n",
       "       [41120.        ],\n",
       "       [35790.        ],\n",
       "       [38930.        ],\n",
       "       [38930.        ],\n",
       "       [21240.        ],\n",
       "       [19450.        ],\n",
       "       [36740.        ],\n",
       "       [39220.        ],\n",
       "       [41350.        ],\n",
       "       [42540.        ],\n",
       "       [39190.        ],\n",
       "       [20840.        ],\n",
       "       [19850.        ],\n",
       "       [38860.        ],\n",
       "       [39320.        ],\n",
       "       [37010.        ],\n",
       "       [39320.        ],\n",
       "       [40450.        ],\n",
       "       [20800.        ],\n",
       "       [18720.        ],\n",
       "       [35880.        ],\n",
       "       [37470.        ],\n",
       "       [36190.        ],\n",
       "       [39700.        ],\n",
       "       [38760.        ],\n",
       "       [20720.        ],\n",
       "       [19430.        ],\n",
       "       [38790.        ],\n",
       "       [37170.        ],\n",
       "       [36330.        ],\n",
       "       [19270.        ],\n",
       "       [34850.        ],\n",
       "       [20960.        ],\n",
       "       [18920.        ],\n",
       "       [38300.        ],\n",
       "       [39100.        ],\n",
       "       [36690.        ],\n",
       "       [37070.        ],\n",
       "       [42290.        ],\n",
       "       [19910.        ],\n",
       "       [18010.        ],\n",
       "       [38860.        ],\n",
       "       [40180.        ],\n",
       "       [38930.        ],\n",
       "       [37480.        ],\n",
       "       [34320.        ],\n",
       "       [18720.        ],\n",
       "       [17770.        ],\n",
       "       [37180.        ],\n",
       "       [37090.        ],\n",
       "       [41450.        ],\n",
       "       [36620.        ],\n",
       "       [38380.        ],\n",
       "       [19130.        ],\n",
       "       [17680.        ],\n",
       "       [33540.        ],\n",
       "       [34870.        ],\n",
       "       [34150.        ],\n",
       "       [34550.        ],\n",
       "       [34490.        ],\n",
       "       [18410.        ],\n",
       "       [17790.        ],\n",
       "       [35820.        ],\n",
       "       [35670.        ],\n",
       "       [36430.        ],\n",
       "       [37620.        ],\n",
       "       [36070.        ],\n",
       "       [19230.        ],\n",
       "       [17720.        ],\n",
       "       [17220.        ],\n",
       "       [15830.        ],\n",
       "       [15840.        ],\n",
       "       [16810.        ],\n",
       "       [17190.        ],\n",
       "       [16480.        ],\n",
       "       [16660.        ],\n",
       "       [17260.        ],\n",
       "       [16160.        ],\n",
       "       [30581.93732194],\n",
       "       [30581.93732194],\n",
       "       [30581.93732194],\n",
       "       [30581.93732194],\n",
       "       [30581.93732194],\n",
       "       [30581.93732194],\n",
       "       [30581.93732194],\n",
       "       [30581.93732194],\n",
       "       [30581.93732194],\n",
       "       [30581.93732194],\n",
       "       [30581.93732194],\n",
       "       [30581.93732194],\n",
       "       [35390.        ],\n",
       "       [36720.        ],\n",
       "       [33010.        ],\n",
       "       [33860.        ],\n",
       "       [36050.        ],\n",
       "       [18360.        ],\n",
       "       [16580.        ],\n",
       "       [41620.        ],\n",
       "       [38810.        ],\n",
       "       [31570.        ],\n",
       "       [35420.        ],\n",
       "       [37450.        ],\n",
       "       [18580.        ],\n",
       "       [18110.        ],\n",
       "       [37290.        ],\n",
       "       [38580.        ],\n",
       "       [38090.        ],\n",
       "       [39570.        ],\n",
       "       [18330.        ],\n",
       "       [18560.        ],\n",
       "       [17300.        ],\n",
       "       [34800.        ],\n",
       "       [33590.        ],\n",
       "       [33600.        ],\n",
       "       [35750.        ],\n",
       "       [35800.        ],\n",
       "       [18490.        ],\n",
       "       [17530.        ],\n",
       "       [35440.        ],\n",
       "       [38240.        ],\n",
       "       [39150.        ],\n",
       "       [39630.        ],\n",
       "       [39340.        ],\n",
       "       [19220.        ],\n",
       "       [16890.        ],\n",
       "       [36730.        ],\n",
       "       [38350.        ],\n",
       "       [39280.        ],\n",
       "       [40990.        ],\n",
       "       [41910.        ],\n",
       "       [18610.        ],\n",
       "       [17990.        ],\n",
       "       [32760.        ],\n",
       "       [42250.        ],\n",
       "       [41700.        ],\n",
       "       [40390.        ],\n",
       "       [38100.        ],\n",
       "       [18960.        ],\n",
       "       [17500.        ],\n",
       "       [35500.        ],\n",
       "       [33900.        ],\n",
       "       [35890.        ],\n",
       "       [35490.        ],\n",
       "       [36830.        ],\n",
       "       [18960.        ],\n",
       "       [18010.        ],\n",
       "       [18130.        ],\n",
       "       [37800.        ],\n",
       "       [39570.        ],\n",
       "       [41630.        ],\n",
       "       [41600.        ],\n",
       "       [20530.        ],\n",
       "       [18710.        ],\n",
       "       [40730.        ],\n",
       "       [42770.        ],\n",
       "       [43160.        ],\n",
       "       [44720.        ],\n",
       "       [43380.        ],\n",
       "       [20810.        ],\n",
       "       [17950.        ],\n",
       "       [48660.        ],\n",
       "       [48820.        ],\n",
       "       [49180.        ],\n",
       "       [49820.        ],\n",
       "       [48930.        ],\n",
       "       [22360.        ],\n",
       "       [20910.        ],\n",
       "       [49500.        ],\n",
       "       [49320.        ],\n",
       "       [48250.        ],\n",
       "       [48570.        ],\n",
       "       [46720.        ],\n",
       "       [20370.        ],\n",
       "       [18660.        ],\n",
       "       [18840.        ],\n",
       "       [21090.        ],\n",
       "       [21000.        ],\n",
       "       [21420.        ],\n",
       "       [23270.        ],\n",
       "       [24710.        ],\n",
       "       [23720.        ],\n",
       "       [50250.        ],\n",
       "       [50600.        ],\n",
       "       [47620.        ],\n",
       "       [44910.        ],\n",
       "       [45660.        ],\n",
       "       [19750.        ],\n",
       "       [17750.        ],\n",
       "       [43810.        ],\n",
       "       [42830.        ],\n",
       "       [43980.        ],\n",
       "       [45830.        ],\n",
       "       [42660.        ],\n",
       "       [19350.        ],\n",
       "       [18620.        ],\n",
       "       [46630.        ],\n",
       "       [45270.        ],\n",
       "       [40680.        ],\n",
       "       [41290.        ],\n",
       "       [43870.        ],\n",
       "       [21430.        ],\n",
       "       [19690.        ],\n",
       "       [42770.        ],\n",
       "       [49140.        ],\n",
       "       [46940.        ],\n",
       "       [40600.        ],\n",
       "       [36750.        ],\n",
       "       [18380.        ],\n",
       "       [17340.        ],\n",
       "       [16730.        ],\n",
       "       [42280.        ],\n",
       "       [37040.        ],\n",
       "       [35140.        ],\n",
       "       [35600.        ],\n",
       "       [18350.        ],\n",
       "       [16050.        ],\n",
       "       [18200.        ],\n",
       "       [41350.        ],\n",
       "       [39190.        ],\n",
       "       [37300.        ],\n",
       "       [37290.        ],\n",
       "       [17000.        ],\n",
       "       [15800.        ],\n",
       "       [38460.        ],\n",
       "       [37850.        ],\n",
       "       [37420.        ],\n",
       "       [37220.        ],\n",
       "       [15720.        ],\n",
       "       [17050.        ],\n",
       "       [15780.        ],\n",
       "       [33560.        ],\n",
       "       [37370.        ],\n",
       "       [31000.        ],\n",
       "       [32570.        ],\n",
       "       [32790.        ],\n",
       "       [13370.        ],\n",
       "       [12630.        ],\n",
       "       [14080.        ],\n",
       "       [29760.        ],\n",
       "       [29060.        ],\n",
       "       [29210.        ],\n",
       "       [29060.        ],\n",
       "       [14810.        ],\n",
       "       [13760.        ],\n",
       "       [27480.        ],\n",
       "       [13720.        ],\n",
       "       [29720.        ],\n",
       "       [26290.        ],\n",
       "       [28820.        ],\n",
       "       [ 5090.        ],\n",
       "       [12000.        ],\n",
       "       [28400.        ],\n",
       "       [29450.        ],\n",
       "       [28470.        ],\n",
       "       [28980.        ],\n",
       "       [30550.        ],\n",
       "       [14340.        ],\n",
       "       [13490.        ],\n",
       "       [13600.        ],\n",
       "       [30620.        ],\n",
       "       [29920.        ],\n",
       "       [29420.        ],\n",
       "       [28810.        ],\n",
       "       [14030.        ],\n",
       "       [13120.        ],\n",
       "       [26620.        ],\n",
       "       [28920.        ],\n",
       "       [30240.        ],\n",
       "       [30230.        ],\n",
       "       [30320.        ],\n",
       "       [14190.        ],\n",
       "       [13360.        ],\n",
       "       [29270.        ],\n",
       "       [29420.        ],\n",
       "       [31450.        ],\n",
       "       [32180.        ],\n",
       "       [15430.        ],\n",
       "       [13760.        ],\n",
       "       [12300.        ],\n",
       "       [28900.        ],\n",
       "       [33170.        ],\n",
       "       [31820.        ],\n",
       "       [32980.        ],\n",
       "       [35000.        ],\n",
       "       [15270.        ],\n",
       "       [14050.        ],\n",
       "       [29760.        ],\n",
       "       [31250.        ],\n",
       "       [31820.        ],\n",
       "       [32990.        ],\n",
       "       [34250.        ],\n",
       "       [15760.        ],\n",
       "       [14310.        ],\n",
       "       [35020.        ],\n",
       "       [31340.        ],\n",
       "       [28950.        ],\n",
       "       [29290.        ],\n",
       "       [34770.        ],\n",
       "       [14870.        ],\n",
       "       [14070.        ],\n",
       "       [34280.        ],\n",
       "       [33790.        ],\n",
       "       [29790.        ],\n",
       "       [32630.        ],\n",
       "       [31300.        ],\n",
       "       [15180.        ],\n",
       "       [13080.        ],\n",
       "       [34230.        ],\n",
       "       [33600.        ],\n",
       "       [36190.        ],\n",
       "       [34200.        ],\n",
       "       [24620.        ],\n",
       "       [12900.        ],\n",
       "       [12070.        ],\n",
       "       [12140.        ],\n",
       "       [11700.        ]])"
      ]
     },
     "execution_count": 127,
     "metadata": {},
     "output_type": "execute_result"
    }
   ],
   "source": [
    "imp = SimpleImputer()\n",
    "powers_imputed = imp.fit_transform(powers.reshape(-1,1))\n",
    "powers_imputed"
   ]
  },
  {
   "cell_type": "code",
   "execution_count": 129,
   "id": "f61255a1",
   "metadata": {},
   "outputs": [
    {
     "data": {
      "text/plain": [
       "[<matplotlib.lines.Line2D at 0x7f3633a501d0>]"
      ]
     },
     "execution_count": 129,
     "metadata": {},
     "output_type": "execute_result"
    },
    {
     "data": {
      "image/png": "[encoded data removed]",
      "text/plain": [
       "<Figure size 432x288 with 1 Axes>"
      ]
     },
     "metadata": {
      "needs_background": "light"
     },
     "output_type": "display_data"
    }
   ],
   "source": [
    "plt.plot(powers_imputed)"
   ]
  },
  {
   "cell_type": "code",
   "execution_count": null,
   "id": "2cb93c9e",
   "metadata": {},
   "outputs": [],
   "source": []
  },
  {
   "cell_type": "code",
   "execution_count": null,
   "id": "0b2c3d33",
   "metadata": {},
   "outputs": [],
   "source": []
  },
  {
   "cell_type": "code",
   "execution_count": null,
   "id": "88923799",
   "metadata": {},
   "outputs": [],
   "source": []
  },
  {
   "cell_type": "code",
   "execution_count": null,
   "id": "b3a63873",
   "metadata": {},
   "outputs": [],
   "source": []
  },
  {
   "cell_type": "code",
   "execution_count": null,
   "id": "436d0d81",
   "metadata": {},
   "outputs": [],
   "source": []
  },
  {
   "cell_type": "code",
   "execution_count": 68,
   "id": "edd9db7b",
   "metadata": {},
   "outputs": [],
   "source": [
    "powers = np.array(powers)\n",
    "powers[powers==0] = np.nan"
   ]
  },
  {
   "cell_type": "code",
   "execution_count": 69,
   "id": "1029e8cc",
   "metadata": {},
   "outputs": [
    {
     "data": {
      "text/plain": [
       "array([19940., 19120., 18760.,  9840., 21240., 37430., 45530., 44480.,\n",
       "       44830., 46150., 42070., 22500., 20490., 20970., 47860., 42010.,\n",
       "       42700., 31690.,    nan,    nan, 28210., 43900., 42110., 43140.,\n",
       "       43880., 23010., 21360., 43050., 44620., 44800., 44450.])"
      ]
     },
     "execution_count": 69,
     "metadata": {},
     "output_type": "execute_result"
    }
   ],
   "source": [
    "powers"
   ]
  },
  {
   "cell_type": "code",
   "execution_count": 72,
   "id": "afe5a6ab",
   "metadata": {},
   "outputs": [
    {
     "data": {
      "text/plain": [
       "array([[19940.       ],\n",
       "       [19120.       ],\n",
       "       [18760.       ],\n",
       "       [ 9840.       ],\n",
       "       [21240.       ],\n",
       "       [37430.       ],\n",
       "       [45530.       ],\n",
       "       [44480.       ],\n",
       "       [44830.       ],\n",
       "       [46150.       ],\n",
       "       [42070.       ],\n",
       "       [22500.       ],\n",
       "       [20490.       ],\n",
       "       [20970.       ],\n",
       "       [47860.       ],\n",
       "       [42010.       ],\n",
       "       [42700.       ],\n",
       "       [31690.       ],\n",
       "       [34487.5862069],\n",
       "       [34487.5862069],\n",
       "       [28210.       ],\n",
       "       [43900.       ],\n",
       "       [42110.       ],\n",
       "       [43140.       ],\n",
       "       [43880.       ],\n",
       "       [23010.       ],\n",
       "       [21360.       ],\n",
       "       [43050.       ],\n",
       "       [44620.       ],\n",
       "       [44800.       ],\n",
       "       [44450.       ]])"
      ]
     },
     "execution_count": 72,
     "metadata": {},
     "output_type": "execute_result"
    }
   ],
   "source": [
    "imp = SimpleImputer()\n",
    "powers_imputed = imp.fit_transform(powers.reshape(-1,1))\n",
    "powers_imputed"
   ]
  },
  {
   "cell_type": "code",
   "execution_count": 73,
   "id": "46cacceb",
   "metadata": {},
   "outputs": [
    {
     "data": {
      "text/plain": [
       "[<matplotlib.lines.Line2D at 0x7f361949ed90>]"
      ]
     },
     "execution_count": 73,
     "metadata": {},
     "output_type": "execute_result"
    },
    {
     "data": {
      "image/png": "[encoded data removed]",
      "text/plain": [
       "<Figure size 432x288 with 1 Axes>"
      ]
     },
     "metadata": {
      "needs_background": "light"
     },
     "output_type": "display_data"
    }
   ],
   "source": [
    "plt.plot(powers_imputed)"
   ]
  },
  {
   "cell_type": "code",
   "execution_count": 103,
   "id": "b8a1f51a",
   "metadata": {},
   "outputs": [],
   "source": [
    "df = pd.read_csv(\"/home/s21033/data/toshiba_SCC_data/104_kawasaki/101_buildac/data101/Buildac_power_plant_2019-01-01.csv\",encoding=\"shift-jis\")"
   ]
  },
  {
   "cell_type": "code",
   "execution_count": 107,
   "id": "49a880a3",
   "metadata": {},
   "outputs": [
    {
     "data": {
      "text/plain": [
       "True"
      ]
     },
     "execution_count": 107,
     "metadata": {},
     "output_type": "execute_result"
    }
   ],
   "source": [
    "\"特高 受電 電力量\" in df.columns"
   ]
  },
  {
   "cell_type": "code",
   "execution_count": null,
   "id": "ec4e4df6",
   "metadata": {},
   "outputs": [],
   "source": []
  }
 ],
 "metadata": {
  "kernelspec": {
   "display_name": "Python 3 (ipykernel)",
   "language": "python",
   "name": "python3"
  },
  "language_info": {
   "codemirror_mode": {
    "name": "ipython",
    "version": 3
   },
   "file_extension": ".py",
   "mimetype": "text/x-python",
   "name": "python",
   "nbconvert_exporter": "python",
   "pygments_lexer": "ipython3",
   "version": "3.7.10"
  }
 },
 "nbformat": 4,
 "nbformat_minor": 5
}
